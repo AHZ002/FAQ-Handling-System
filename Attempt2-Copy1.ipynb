{
 "cells": [
  {
   "cell_type": "code",
   "execution_count": 18,
   "id": "0eb0f657-2181-431e-84e5-64f32d464abb",
   "metadata": {},
   "outputs": [],
   "source": [
    "from langchain.llms import GooglePalm\n",
    "from langchain.embeddings import GooglePalmEmbeddings\n",
    "from langchain.text_splitter import CharacterTextSplitter\n",
    "from langchain.vectorstores import FAISS\n",
    "from langchain.document_loaders import PyPDFLoader\n",
    "from langchain.document_loaders import CSVLoader\n",
    "from langchain.chains.question_answering import load_qa_chain\n",
    "from dotenv import load_dotenv\n",
    "from secret import GOOGLE_API_KEY as google_api_key\n",
    "from langchain.prompts import PromptTemplate\n",
    "import pandas as pd"
   ]
  },
  {
   "cell_type": "code",
   "execution_count": 20,
   "id": "d3929b02-55af-463f-ac11-fa11eebd0eb4",
   "metadata": {},
   "outputs": [],
   "source": [
    "loader = PyPDFLoader(r\"C:\\Users\\ABDUL_HADI\\Desktop\\ChatBot2\\Rappo qa.pdf\")\n",
    "data1 = loader.load()"
   ]
  },
  {
   "cell_type": "code",
   "execution_count": 22,
   "id": "65c6e615-ff44-4402-9a50-61760b23ede2",
   "metadata": {},
   "outputs": [],
   "source": [
    "data = pd.read_csv(r\"C:\\Users\\ABDUL_HADI\\Desktop\\ChatBot2\\Champion_Onboarding_Submissions_2024-08-22.csv\")"
   ]
  },
  {
   "cell_type": "code",
   "execution_count": 24,
   "id": "18a29723-bae7-4963-b8a9-d1ad6f43860d",
   "metadata": {},
   "outputs": [
    {
     "data": {
      "text/html": [
       "<div>\n",
       "<style scoped>\n",
       "    .dataframe tbody tr th:only-of-type {\n",
       "        vertical-align: middle;\n",
       "    }\n",
       "\n",
       "    .dataframe tbody tr th {\n",
       "        vertical-align: top;\n",
       "    }\n",
       "\n",
       "    .dataframe thead th {\n",
       "        text-align: right;\n",
       "    }\n",
       "</style>\n",
       "<table border=\"1\" class=\"dataframe\">\n",
       "  <thead>\n",
       "    <tr style=\"text-align: right;\">\n",
       "      <th></th>\n",
       "      <th>Submission ID</th>\n",
       "      <th>Respondent ID</th>\n",
       "      <th>Submitted at</th>\n",
       "      <th>Your LinkedIn profile, please?</th>\n",
       "      <th>Any specific challenges or areas that interest you?</th>\n",
       "      <th>As an engineering leader, what's something that keeps you awake in the night?</th>\n",
       "      <th>What technologies or tools do you use most frequently in your day-to-day work?</th>\n",
       "      <th>What tool or technology are you most excited about?</th>\n",
       "      <th>How can you help early-stage founders?</th>\n",
       "    </tr>\n",
       "  </thead>\n",
       "  <tbody>\n",
       "    <tr>\n",
       "      <th>0</th>\n",
       "      <td>kgyDZZ</td>\n",
       "      <td>Bb9294</td>\n",
       "      <td>2024-07-26 03:57:13</td>\n",
       "      <td>https://www.linkedin.com/in/roojuta/</td>\n",
       "      <td>Building new things, fast prototype, improving...</td>\n",
       "      <td>Lack of growth opportunities, Building product...</td>\n",
       "      <td>graphana, elastic search, honeycomb, postman, ...</td>\n",
       "      <td>anything new</td>\n",
       "      <td>Customer Interviews, Product Feedback, Positio...</td>\n",
       "    </tr>\n",
       "    <tr>\n",
       "      <th>1</th>\n",
       "      <td>ak6bWZ</td>\n",
       "      <td>2xRDQV</td>\n",
       "      <td>2024-07-26 04:07:32</td>\n",
       "      <td>https://www.linkedin.com/in/someshkumartp/</td>\n",
       "      <td>Improving developer velocity \\nCI/CD strategie...</td>\n",
       "      <td>Ensuring that the team is in the best space to...</td>\n",
       "      <td>Mainly management related tools</td>\n",
       "      <td>Automated code review</td>\n",
       "      <td>Customer Interviews, Product Feedback, Design ...</td>\n",
       "    </tr>\n",
       "    <tr>\n",
       "      <th>2</th>\n",
       "      <td>9x16qp</td>\n",
       "      <td>KBO8rA</td>\n",
       "      <td>2024-07-26 17:12:12</td>\n",
       "      <td>https://www.linkedin.com/in/sanjaypais/</td>\n",
       "      <td>Mentoring developers and people leaders. Archi...</td>\n",
       "      <td>Systems crashing and customers informing us ab...</td>\n",
       "      <td>Docker, C#, .NET Core, Postgress, Redis, Linux...</td>\n",
       "      <td>MongoDb</td>\n",
       "      <td>Customer Interviews, Product Feedback, Introdu...</td>\n",
       "    </tr>\n",
       "    <tr>\n",
       "      <th>3</th>\n",
       "      <td>P40p9Q</td>\n",
       "      <td>GBkMkZ</td>\n",
       "      <td>2024-07-27 01:30:02</td>\n",
       "      <td>www.linkedin.com/in/yoramt</td>\n",
       "      <td>Cost to serve, Agile transformation and develo...</td>\n",
       "      <td>bad code in production creating an incident th...</td>\n",
       "      <td>argo,java,golang, react, datadog, various dbs....</td>\n",
       "      <td>copilot, automatic code gen to accelerate dev</td>\n",
       "      <td>Design partnership, Positioning/Website review...</td>\n",
       "    </tr>\n",
       "    <tr>\n",
       "      <th>4</th>\n",
       "      <td>GkB0ZZ</td>\n",
       "      <td>PBea6e</td>\n",
       "      <td>2024-07-29 03:18:25</td>\n",
       "      <td>https://www.linkedin.com/in/ashutosh-galande</td>\n",
       "      <td>Infrastructure, Engineering, Platform strategy...</td>\n",
       "      <td>Making sure we are investing in the right area</td>\n",
       "      <td>Datadog, Azure, AWS, gcp</td>\n",
       "      <td>AI</td>\n",
       "      <td>Customer Interviews, Product Feedback, Positio...</td>\n",
       "    </tr>\n",
       "  </tbody>\n",
       "</table>\n",
       "</div>"
      ],
      "text/plain": [
       "  Submission ID Respondent ID         Submitted at  \\\n",
       "0        kgyDZZ        Bb9294  2024-07-26 03:57:13   \n",
       "1        ak6bWZ        2xRDQV  2024-07-26 04:07:32   \n",
       "2        9x16qp        KBO8rA  2024-07-26 17:12:12   \n",
       "3        P40p9Q        GBkMkZ  2024-07-27 01:30:02   \n",
       "4        GkB0ZZ        PBea6e  2024-07-29 03:18:25   \n",
       "\n",
       "                 Your LinkedIn profile, please?  \\\n",
       "0          https://www.linkedin.com/in/roojuta/   \n",
       "1    https://www.linkedin.com/in/someshkumartp/   \n",
       "2       https://www.linkedin.com/in/sanjaypais/   \n",
       "3                    www.linkedin.com/in/yoramt   \n",
       "4  https://www.linkedin.com/in/ashutosh-galande   \n",
       "\n",
       "  Any specific challenges or areas that interest you?   \\\n",
       "0  Building new things, fast prototype, improving...     \n",
       "1  Improving developer velocity \\nCI/CD strategie...     \n",
       "2  Mentoring developers and people leaders. Archi...     \n",
       "3  Cost to serve, Agile transformation and develo...     \n",
       "4  Infrastructure, Engineering, Platform strategy...     \n",
       "\n",
       "  As an engineering leader, what's something that keeps you awake in the night?   \\\n",
       "0  Lack of growth opportunities, Building product...                               \n",
       "1  Ensuring that the team is in the best space to...                               \n",
       "2  Systems crashing and customers informing us ab...                               \n",
       "3  bad code in production creating an incident th...                               \n",
       "4     Making sure we are investing in the right area                               \n",
       "\n",
       "  What technologies or tools do you use most frequently in your day-to-day work?  \\\n",
       "0  graphana, elastic search, honeycomb, postman, ...                               \n",
       "1                   Mainly management related tools                                \n",
       "2  Docker, C#, .NET Core, Postgress, Redis, Linux...                               \n",
       "3  argo,java,golang, react, datadog, various dbs....                               \n",
       "4                           Datadog, Azure, AWS, gcp                               \n",
       "\n",
       "  What tool or technology are you most excited about?  \\\n",
       "0                                      anything new     \n",
       "1                              Automated code review    \n",
       "2                                            MongoDb    \n",
       "3      copilot, automatic code gen to accelerate dev    \n",
       "4                                                 AI    \n",
       "\n",
       "              How can you help early-stage founders?  \n",
       "0  Customer Interviews, Product Feedback, Positio...  \n",
       "1  Customer Interviews, Product Feedback, Design ...  \n",
       "2  Customer Interviews, Product Feedback, Introdu...  \n",
       "3  Design partnership, Positioning/Website review...  \n",
       "4  Customer Interviews, Product Feedback, Positio...  "
      ]
     },
     "execution_count": 24,
     "metadata": {},
     "output_type": "execute_result"
    }
   ],
   "source": [
    "data.head()"
   ]
  },
  {
   "cell_type": "code",
   "execution_count": 26,
   "id": "b208480f-baf0-4638-bb7a-7c878a958959",
   "metadata": {},
   "outputs": [],
   "source": [
    "data = data.drop(data.columns[[0,1,2]] , axis=1)\n"
   ]
  },
  {
   "cell_type": "code",
   "execution_count": 28,
   "id": "dd66b7ab-a37f-4d52-89f7-6c1c10856453",
   "metadata": {},
   "outputs": [
    {
     "data": {
      "text/html": [
       "<div>\n",
       "<style scoped>\n",
       "    .dataframe tbody tr th:only-of-type {\n",
       "        vertical-align: middle;\n",
       "    }\n",
       "\n",
       "    .dataframe tbody tr th {\n",
       "        vertical-align: top;\n",
       "    }\n",
       "\n",
       "    .dataframe thead th {\n",
       "        text-align: right;\n",
       "    }\n",
       "</style>\n",
       "<table border=\"1\" class=\"dataframe\">\n",
       "  <thead>\n",
       "    <tr style=\"text-align: right;\">\n",
       "      <th></th>\n",
       "      <th>Your LinkedIn profile, please?</th>\n",
       "      <th>Any specific challenges or areas that interest you?</th>\n",
       "      <th>As an engineering leader, what's something that keeps you awake in the night?</th>\n",
       "      <th>What technologies or tools do you use most frequently in your day-to-day work?</th>\n",
       "      <th>What tool or technology are you most excited about?</th>\n",
       "      <th>How can you help early-stage founders?</th>\n",
       "    </tr>\n",
       "  </thead>\n",
       "  <tbody>\n",
       "    <tr>\n",
       "      <th>0</th>\n",
       "      <td>https://www.linkedin.com/in/roojuta/</td>\n",
       "      <td>Building new things, fast prototype, improving...</td>\n",
       "      <td>Lack of growth opportunities, Building product...</td>\n",
       "      <td>graphana, elastic search, honeycomb, postman, ...</td>\n",
       "      <td>anything new</td>\n",
       "      <td>Customer Interviews, Product Feedback, Positio...</td>\n",
       "    </tr>\n",
       "    <tr>\n",
       "      <th>1</th>\n",
       "      <td>https://www.linkedin.com/in/someshkumartp/</td>\n",
       "      <td>Improving developer velocity \\nCI/CD strategie...</td>\n",
       "      <td>Ensuring that the team is in the best space to...</td>\n",
       "      <td>Mainly management related tools</td>\n",
       "      <td>Automated code review</td>\n",
       "      <td>Customer Interviews, Product Feedback, Design ...</td>\n",
       "    </tr>\n",
       "    <tr>\n",
       "      <th>2</th>\n",
       "      <td>https://www.linkedin.com/in/sanjaypais/</td>\n",
       "      <td>Mentoring developers and people leaders. Archi...</td>\n",
       "      <td>Systems crashing and customers informing us ab...</td>\n",
       "      <td>Docker, C#, .NET Core, Postgress, Redis, Linux...</td>\n",
       "      <td>MongoDb</td>\n",
       "      <td>Customer Interviews, Product Feedback, Introdu...</td>\n",
       "    </tr>\n",
       "    <tr>\n",
       "      <th>3</th>\n",
       "      <td>www.linkedin.com/in/yoramt</td>\n",
       "      <td>Cost to serve, Agile transformation and develo...</td>\n",
       "      <td>bad code in production creating an incident th...</td>\n",
       "      <td>argo,java,golang, react, datadog, various dbs....</td>\n",
       "      <td>copilot, automatic code gen to accelerate dev</td>\n",
       "      <td>Design partnership, Positioning/Website review...</td>\n",
       "    </tr>\n",
       "    <tr>\n",
       "      <th>4</th>\n",
       "      <td>https://www.linkedin.com/in/ashutosh-galande</td>\n",
       "      <td>Infrastructure, Engineering, Platform strategy...</td>\n",
       "      <td>Making sure we are investing in the right area</td>\n",
       "      <td>Datadog, Azure, AWS, gcp</td>\n",
       "      <td>AI</td>\n",
       "      <td>Customer Interviews, Product Feedback, Positio...</td>\n",
       "    </tr>\n",
       "  </tbody>\n",
       "</table>\n",
       "</div>"
      ],
      "text/plain": [
       "                 Your LinkedIn profile, please?  \\\n",
       "0          https://www.linkedin.com/in/roojuta/   \n",
       "1    https://www.linkedin.com/in/someshkumartp/   \n",
       "2       https://www.linkedin.com/in/sanjaypais/   \n",
       "3                    www.linkedin.com/in/yoramt   \n",
       "4  https://www.linkedin.com/in/ashutosh-galande   \n",
       "\n",
       "  Any specific challenges or areas that interest you?   \\\n",
       "0  Building new things, fast prototype, improving...     \n",
       "1  Improving developer velocity \\nCI/CD strategie...     \n",
       "2  Mentoring developers and people leaders. Archi...     \n",
       "3  Cost to serve, Agile transformation and develo...     \n",
       "4  Infrastructure, Engineering, Platform strategy...     \n",
       "\n",
       "  As an engineering leader, what's something that keeps you awake in the night?   \\\n",
       "0  Lack of growth opportunities, Building product...                               \n",
       "1  Ensuring that the team is in the best space to...                               \n",
       "2  Systems crashing and customers informing us ab...                               \n",
       "3  bad code in production creating an incident th...                               \n",
       "4     Making sure we are investing in the right area                               \n",
       "\n",
       "  What technologies or tools do you use most frequently in your day-to-day work?  \\\n",
       "0  graphana, elastic search, honeycomb, postman, ...                               \n",
       "1                   Mainly management related tools                                \n",
       "2  Docker, C#, .NET Core, Postgress, Redis, Linux...                               \n",
       "3  argo,java,golang, react, datadog, various dbs....                               \n",
       "4                           Datadog, Azure, AWS, gcp                               \n",
       "\n",
       "  What tool or technology are you most excited about?  \\\n",
       "0                                      anything new     \n",
       "1                              Automated code review    \n",
       "2                                            MongoDb    \n",
       "3      copilot, automatic code gen to accelerate dev    \n",
       "4                                                 AI    \n",
       "\n",
       "              How can you help early-stage founders?  \n",
       "0  Customer Interviews, Product Feedback, Positio...  \n",
       "1  Customer Interviews, Product Feedback, Design ...  \n",
       "2  Customer Interviews, Product Feedback, Introdu...  \n",
       "3  Design partnership, Positioning/Website review...  \n",
       "4  Customer Interviews, Product Feedback, Positio...  "
      ]
     },
     "execution_count": 28,
     "metadata": {},
     "output_type": "execute_result"
    }
   ],
   "source": [
    "data.head()"
   ]
  },
  {
   "cell_type": "code",
   "execution_count": 36,
   "id": "f2a31535-66a1-405a-8aee-729b666b2190",
   "metadata": {},
   "outputs": [],
   "source": [
    "data.to_csv(r\"C:\\Users\\ABDUL_HADI\\Desktop\\ChatBot2\\New_tally.csv\")"
   ]
  },
  {
   "cell_type": "code",
   "execution_count": 40,
   "id": "d0beb586-6cac-4f1f-b1f3-e1f0723dae98",
   "metadata": {},
   "outputs": [
    {
     "data": {
      "text/plain": [
       "[Document(metadata={'source': 'C:\\\\Users\\\\ABDUL_HADI\\\\Desktop\\\\ChatBot2\\\\Rappo qa.pdf', 'page': 0}, page_content=\"1)\\nWhat\\nis\\nrappo?\\nRappo\\nis\\na\\nmarketplace\\nthat\\nhelps\\nearly-stage\\nstartups\\nconnect\\nwith\\nkey\\ndecision-makers\\nin\\nlarger\\ncompanies\\nusing\\na\\nmix\\nof\\ndata,\\nAI,\\nand\\npersonal\\nrelationships.\\nIt\\naims\\nto\\nbuild\\nand\\nstrengthen\\nthese\\nconnections\\nto\\nsupport\\nstartup\\ngrowth.\\n2)\\nChampion\\n:\\nA\\nchampion\\nis\\na\\ntop\\nor\\nsenior\\nindustry\\nexpert\\nwithin\\na\\nlarger\\ncompany\\nwho\\nadvocates\\nfor\\nand\\nsupports\\nthe\\nadoption\\nof\\na\\ncompany's\\nproduct\\nor\\nservice.\\n3)\\nWho\\nis\\nrappo\\nfor\\n:\\na)\\nEarly\\nstage\\nfounders\\nb)\\nEarly-stage\\nB2B\\nstartups\\nc)\\nAgencies\\n&\\nConsultants\\n4)\\nWhy\\nto\\npay\\nchampions\\n:\\nIt\\nalso\\ncompensates\\nthem\\nfor\\ntheir\\ntime,\\nexpertise,\\nand\\nthe\\nrisk\\nthey\\ntake\\nin\\nadvocating\\nfor\\na\\nnew\\nand\\nunproven\\nproduct\\nwithin\\ntheir\\norganization.\\n5)\\nIs\\nthis\\nkinda\\nbribing?\\n:\\nno.\\nThe\\nchampions\\nwe\\nare\\nthinking\\nof\\n(their\\nseniority)\\nwon’t\\nhave\\nsensitive\\ninformation\\nabout\\na\\ncompany\\nor\\nare\\nso\\nhigh\\non\\nthe\\nladder\\nthat\\nthey\\ncan\\ncause\\nsignificant\\ndamage.\\n6)\\nAttributes\\nof\\na\\nchampion\\n:\\nInfluential:\\nHas\\nthe\\npower\\nto\\ninfluence\\ndecisions\\nwithin\\ntheir\\norganization.\\nExpert:\\nPossesses\\ndeep\\nknowledge\\nand\\nexpertise\\nin\\ntheir\\nindustry.\\nSupportive:\\nActively\\nadvocates\\nfor\\nthe\\nstartup's\\nproduct\\nor\\nservice.\\nConnected:\\nWell-networked\\nwithin\\nthe\\nindustry\\nand\\nthe\\norganization.\\nCommitted:\\nWilling\\nto\\ninvest\\ntime\\nand\\neffort\\nto\\nhelp\\nthe\\nstartup\\nsucceed.\\n7)\\nWhy\\nshould\\nyou\\nuse\\nrappo\\n:\\n1.\\nBest\\ncurated\\nenterprises\\nchampions\\n2.\\nInstant\\nresponse\\nfrom\\nthe\\nchampions\\n3.\\nEconomically\\nbetter\\nthan\\noutreaches\\n4.\\nNo\\nspam,\\nRappo\\nis\\nsecured\\n5.\\nPrivacy\\ncomes\\nfirst\\n8)\\nHow\\ndoes\\nit\\nworks?\\n:\\nFounders\\ndescribe\\nthe\\nchampion's\\nattributes.\\nWhat’s\\nthe\\nchampion’s\\ntitle,\\nwhere\\ndo\\nthey\\nwork,\\nwhat\\ndo\\nthey\\ndo?\\nWe\\nconnect\\nthe\\nfounders\\nwith\\nchampions\\nwho\\nare\\nalso\\ninterested\\nin\\nmeeting\\n(double\\nopt-in).\\nFounders\\npay\\nchampions\\none\\ntime\\n($250)\\nfor\\ntheir\\ntime.\\n9)\\nWhy\\ndo\\nwe\\nneed\\na\\nmarketplace\\nfor\\nthis?\\n:\\nRappo\\nis\\nmade\\nof\\ntwo\\nsides\\n(founders,\\nchampions).\\nThere\\nneeds\\na\\ntrusted,\\nreliable\\nand\\ncommitted\\nplatform\\nto\\nfacilitate\\nmeaningful\\nconnections.\\nCertainly,\\nyou\\ncould\\ntry\\nbuilding\\nthe\\nrelationship\\noutside\\nof\\nour\\nplatform\\nbut\\nit's\\njust\\nhard.\\n10)\\nIs\\nRappo\\nan\\nalternative\\nfor\\nmy\\nGTM?\\n:\\nNot\\nreally.\\nAs\\na\\nstartup,\\nyou\\nshould\\ncertainly\\nhave\\na\\nsolid\\nGTM\\ndirection.\\nRappo\\ncan\\nhelp\\naugment\\nit.\\n11)\\nHow\\ndoes\\nRappo\\nensure\\nthat\\nthe\\nconnections\\nmade\\nare\\nvaluable?\\n:\\nRappo\\naligns\\nincentives,\\nholds\\nboth\\nparties\\naccountable,\\nand\\nfacilitates\\nthe\\nsharing\\nof\\ninsights\\nto\\nensure\\nproductive\\nand\\nmeaningful\\ninteractions.\"),\n",
       " Document(metadata={'source': 'C:\\\\Users\\\\ABDUL_HADI\\\\Desktop\\\\ChatBot2\\\\Rappo qa.pdf', 'page': 1}, page_content=\"12)\\nWhat\\nstage\\nshould\\nmy\\nstartup\\nbe\\nin\\nto\\nbenefit\\nfrom\\nRappo?\\n:\\nRappo\\nis\\nparticularly\\nbeneficial\\nfor\\nearly-stage\\nstartups\\nlooking\\nto\\nconnect\\nwith\\ndesign\\npartners,\\npotential\\ncustomers,\\nand\\nkey\\ndecision-makers,\\nhowever\\nit\\ncould\\nbe\\nused\\nby\\nanyone\\nseeking\\nconsultation\\nwith\\nindustry\\nexperts\\nin\\ntheir\\nspecific\\ndomain.\\n13)\\nHow\\ndo\\nI\\nget\\nstarted\\non\\nRappo?\\n:\\nYou\\ncan\\nsign\\nup\\non\\nRappo's\\nplatform,\\ncreate\\na\\nprofile\\nfor\\nyour\\nstartup,\\nand\\nstart\\nconnecting\\nwith\\npotential\\nchampions\\nwho\\nmatch\\nyour\\nindustry\\nand\\nneeds.\\n14)\\nWhat\\nis\\nmy\\nrole\\nas\\na\\nchampion\\non\\nRappo?\\n:\\nAs\\na\\nchampion,\\nyour\\nrole\\nis\\nto\\nleverage\\nyour\\nexpertise\\nand\\ninfluence\\nto\\nsupport\\nand\\nadvocate\\nfor\\nstartups,\\nhelping\\nthem\\nnavigate\\nand\\nsucceed\\nin\\nyour\\norganization.\\n15)Why\\nshould\\nI\\nbecome\\na\\nchampion\\non\\nRappo?\\n:\\nBecoming\\na\\nchampion\\nallows\\nyou\\nto\\nengage\\nwith\\ninnovative\\nstartups,\\ncontribute\\nto\\nthe\\ngrowth\\nof\\nnew\\ntechnologies,\\nbuild\\nnew\\nrelations\\n,and\\nreceive\\ngood\\ncompensation\\nfor\\nyour\\nexpertise\\nand\\ntime.\\n16)\\nWhat\\nkind\\nof\\ncommitment\\nis\\nexpected\\nfrom\\nme\\nas\\na\\nchampion?\\n:\\nThe\\ncommitment\\nlevel\\ncan\\nvary,\\nbut\\ngenerally,\\nyou\\nare\\nexpected\\nto\\ninvest\\ntime\\nand\\neffort\\nto\\nsupport\\nand\\nadvocate\\nfor\\nthe\\nstartup,\\nproviding\\nvaluable\\nfeedback\\nand\\nconnections.\\n17)\\nHow\\ndoes\\nRappo\\nprotect\\nmy\\nstartup's\\nconfidential\\ninformation?\\n:\\nRappo\\nuses\\nsecure\\ncommunication\\nchannels\\nand\\nconfidentiality\\nagreements\\nto\\nensure\\nthat\\nsensitive\\ninformation\\nis\\nprotected.\\n18)\\nCan\\nI\\nchoose\\nwhich\\nchampions\\nto\\nconnect\\nwith\\non\\nRappo?\\n:\\nYes,\\nyou\\ncan\\nbrowse\\nand\\nselect\\nchampions\\nbased\\non\\ntheir\\nexpertise,\\nindustry,\\nand\\nrelevance\\nto\\nyour\\nstartup's\\nneeds.\\n19)What\\nkind\\nof\\nsupport\\ncan\\nI\\nexpect\\nfrom\\na\\nchampion?\\n:\\nSupport\\ncan\\ninclude\\nfeedback\\non\\nyour\\nproduct,\\nintroductions\\nto\\nkey\\ncontacts,\\nstrategic\\nadvice,\\nand\\nadvocacy\\nwithin\\ntheir\\norganization.\\n20)Is\\nthere\\na\\ncost\\nto\\nuse\\nRappo?\\n:\\nRappo\\nmay\\ncharge\\na\\nsubscription\\nfee\\nor\\na\\ncommission\\nbased\\non\\nsuccessful\\nconnections\\nand\\npartnerships.\\nSpecific\\npricing\\ndetails\\nwould\\nbe\\nprovided\\non\\nthe\\nplatform.\\n21)How\\ndoes\\nRappo\\nhandle\\nconflicts\\nof\\ninterest?\\n:\\nRappo\\nhas\\npolicies\\nin\\nplace\\nto\\nidentify\\nand\\nmitigate\\nconflicts\\nof\\ninterest\\nto\\nensure\\nthat\\nthe\\nrelationships\\nand\\nsupport\\nprovided\\nare\\nethical\\nand\\nbeneficial\\nto\\nboth\\nparties.\\n22)How\\ndo\\nI\\nget\\nmatched\\nwith\\nstartups\\non\\nRappo?\\n:\\nRappo\\nuses\\na\\ncombination\\nof\\nyour\\nprofile\\ninformation,\\nexpertise,\\nand\\npreferences\\nto\\nmatch\\nyou\\nwith\\nstartups\\nthat\\nalign\\nwith\\nyour\\ninterests\\nand\\nskills.\\n23)\\nCan\\nI\\ndecline\\nto\\nsupport\\na\\nstartup\\nif\\nit\\ndoesn’t\\nalign\\nwith\\nmy\\ninterests?\\n:\\nYes,\\nyou\\nhave\\nthe\\nflexibility\\nto\\nchoose\\nwhich\\nstartups\\nto\\nsupport\\nbased\\non\\nyour\\ninterests\\nand\\nalignment\\nwith\\ntheir\\ngoals.\\n24)What\\nare\\nthe\\npotential\\nrisks\\nof\\nbeing\\na\\nchampion\\non\\nRappo?\\n:\\nRisks\\ncan\\ninclude\\nthe\\ntime\\ninvestment\\nand\\nthe\\npossibility\\nthat\\nthe\\nstartup\\nmay\\nnot\\nsucceed\\ndespite\\nyour\\nsupport.\\nRappo\\naims\\nto\\nmitigate\\nthese\\nrisks\\nthrough\\ncareful\\nvetting\\nand\\nsupport\\nmechanisms\\n.\\n25)Can\\nI\\ncollaborate\\nwith\\nother\\nchampions\\non\\nRappo?\\n:\\nYes,\\nRappo\\nencourages\\ncollaboration\\namong\\nchampions\\nto\\nprovide\\na\\nbroader\\nrange\\nof\\nsupport\\nand\\ninsights\\nto\\nstartups.\"),\n",
       " Document(metadata={'source': 'C:\\\\Users\\\\ABDUL_HADI\\\\Desktop\\\\ChatBot2\\\\Rappo qa.pdf', 'page': 2}, page_content='')]"
      ]
     },
     "execution_count": 40,
     "metadata": {},
     "output_type": "execute_result"
    }
   ],
   "source": [
    "loader1 = CSVLoader(file_path=r\"C:\\Users\\ABDUL_HADI\\Desktop\\ChatBot2\\New_tally.csv\")\n",
    "data2 = loader.load()\n",
    "data2"
   ]
  },
  {
   "cell_type": "code",
   "execution_count": 42,
   "id": "d916ed2a-f8af-4ccb-9f49-6d882ea2dcf8",
   "metadata": {},
   "outputs": [
    {
     "data": {
      "text/plain": [
       "[Document(metadata={'source': 'C:\\\\Users\\\\ABDUL_HADI\\\\Desktop\\\\ChatBot2\\\\Rappo qa.pdf', 'page': 0}, page_content=\"1)\\nWhat\\nis\\nrappo?\\nRappo\\nis\\na\\nmarketplace\\nthat\\nhelps\\nearly-stage\\nstartups\\nconnect\\nwith\\nkey\\ndecision-makers\\nin\\nlarger\\ncompanies\\nusing\\na\\nmix\\nof\\ndata,\\nAI,\\nand\\npersonal\\nrelationships.\\nIt\\naims\\nto\\nbuild\\nand\\nstrengthen\\nthese\\nconnections\\nto\\nsupport\\nstartup\\ngrowth.\\n2)\\nChampion\\n:\\nA\\nchampion\\nis\\na\\ntop\\nor\\nsenior\\nindustry\\nexpert\\nwithin\\na\\nlarger\\ncompany\\nwho\\nadvocates\\nfor\\nand\\nsupports\\nthe\\nadoption\\nof\\na\\ncompany's\\nproduct\\nor\\nservice.\\n3)\\nWho\\nis\\nrappo\\nfor\\n:\\na)\\nEarly\\nstage\\nfounders\\nb)\\nEarly-stage\\nB2B\\nstartups\\nc)\\nAgencies\\n&\\nConsultants\\n4)\\nWhy\\nto\\npay\\nchampions\\n:\\nIt\\nalso\\ncompensates\\nthem\\nfor\\ntheir\\ntime,\\nexpertise,\\nand\\nthe\\nrisk\\nthey\\ntake\\nin\\nadvocating\\nfor\\na\\nnew\\nand\\nunproven\\nproduct\\nwithin\\ntheir\\norganization.\\n5)\\nIs\\nthis\\nkinda\\nbribing?\\n:\\nno.\\nThe\\nchampions\\nwe\\nare\\nthinking\\nof\\n(their\\nseniority)\\nwon’t\\nhave\\nsensitive\\ninformation\\nabout\\na\\ncompany\\nor\\nare\\nso\\nhigh\\non\\nthe\\nladder\\nthat\\nthey\\ncan\\ncause\\nsignificant\\ndamage.\\n6)\\nAttributes\\nof\\na\\nchampion\\n:\\nInfluential:\\nHas\\nthe\\npower\\nto\\ninfluence\\ndecisions\\nwithin\\ntheir\\norganization.\\nExpert:\\nPossesses\\ndeep\\nknowledge\\nand\\nexpertise\\nin\\ntheir\\nindustry.\\nSupportive:\\nActively\\nadvocates\\nfor\\nthe\\nstartup's\\nproduct\\nor\\nservice.\\nConnected:\\nWell-networked\\nwithin\\nthe\\nindustry\\nand\\nthe\\norganization.\\nCommitted:\\nWilling\\nto\\ninvest\\ntime\\nand\\neffort\\nto\\nhelp\\nthe\\nstartup\\nsucceed.\\n7)\\nWhy\\nshould\\nyou\\nuse\\nrappo\\n:\\n1.\\nBest\\ncurated\\nenterprises\\nchampions\\n2.\\nInstant\\nresponse\\nfrom\\nthe\\nchampions\\n3.\\nEconomically\\nbetter\\nthan\\noutreaches\\n4.\\nNo\\nspam,\\nRappo\\nis\\nsecured\\n5.\\nPrivacy\\ncomes\\nfirst\\n8)\\nHow\\ndoes\\nit\\nworks?\\n:\\nFounders\\ndescribe\\nthe\\nchampion's\\nattributes.\\nWhat’s\\nthe\\nchampion’s\\ntitle,\\nwhere\\ndo\\nthey\\nwork,\\nwhat\\ndo\\nthey\\ndo?\\nWe\\nconnect\\nthe\\nfounders\\nwith\\nchampions\\nwho\\nare\\nalso\\ninterested\\nin\\nmeeting\\n(double\\nopt-in).\\nFounders\\npay\\nchampions\\none\\ntime\\n($250)\\nfor\\ntheir\\ntime.\\n9)\\nWhy\\ndo\\nwe\\nneed\\na\\nmarketplace\\nfor\\nthis?\\n:\\nRappo\\nis\\nmade\\nof\\ntwo\\nsides\\n(founders,\\nchampions).\\nThere\\nneeds\\na\\ntrusted,\\nreliable\\nand\\ncommitted\\nplatform\\nto\\nfacilitate\\nmeaningful\\nconnections.\\nCertainly,\\nyou\\ncould\\ntry\\nbuilding\\nthe\\nrelationship\\noutside\\nof\\nour\\nplatform\\nbut\\nit's\\njust\\nhard.\\n10)\\nIs\\nRappo\\nan\\nalternative\\nfor\\nmy\\nGTM?\\n:\\nNot\\nreally.\\nAs\\na\\nstartup,\\nyou\\nshould\\ncertainly\\nhave\\na\\nsolid\\nGTM\\ndirection.\\nRappo\\ncan\\nhelp\\naugment\\nit.\\n11)\\nHow\\ndoes\\nRappo\\nensure\\nthat\\nthe\\nconnections\\nmade\\nare\\nvaluable?\\n:\\nRappo\\naligns\\nincentives,\\nholds\\nboth\\nparties\\naccountable,\\nand\\nfacilitates\\nthe\\nsharing\\nof\\ninsights\\nto\\nensure\\nproductive\\nand\\nmeaningful\\ninteractions.\"),\n",
       " Document(metadata={'source': 'C:\\\\Users\\\\ABDUL_HADI\\\\Desktop\\\\ChatBot2\\\\Rappo qa.pdf', 'page': 1}, page_content=\"12)\\nWhat\\nstage\\nshould\\nmy\\nstartup\\nbe\\nin\\nto\\nbenefit\\nfrom\\nRappo?\\n:\\nRappo\\nis\\nparticularly\\nbeneficial\\nfor\\nearly-stage\\nstartups\\nlooking\\nto\\nconnect\\nwith\\ndesign\\npartners,\\npotential\\ncustomers,\\nand\\nkey\\ndecision-makers,\\nhowever\\nit\\ncould\\nbe\\nused\\nby\\nanyone\\nseeking\\nconsultation\\nwith\\nindustry\\nexperts\\nin\\ntheir\\nspecific\\ndomain.\\n13)\\nHow\\ndo\\nI\\nget\\nstarted\\non\\nRappo?\\n:\\nYou\\ncan\\nsign\\nup\\non\\nRappo's\\nplatform,\\ncreate\\na\\nprofile\\nfor\\nyour\\nstartup,\\nand\\nstart\\nconnecting\\nwith\\npotential\\nchampions\\nwho\\nmatch\\nyour\\nindustry\\nand\\nneeds.\\n14)\\nWhat\\nis\\nmy\\nrole\\nas\\na\\nchampion\\non\\nRappo?\\n:\\nAs\\na\\nchampion,\\nyour\\nrole\\nis\\nto\\nleverage\\nyour\\nexpertise\\nand\\ninfluence\\nto\\nsupport\\nand\\nadvocate\\nfor\\nstartups,\\nhelping\\nthem\\nnavigate\\nand\\nsucceed\\nin\\nyour\\norganization.\\n15)Why\\nshould\\nI\\nbecome\\na\\nchampion\\non\\nRappo?\\n:\\nBecoming\\na\\nchampion\\nallows\\nyou\\nto\\nengage\\nwith\\ninnovative\\nstartups,\\ncontribute\\nto\\nthe\\ngrowth\\nof\\nnew\\ntechnologies,\\nbuild\\nnew\\nrelations\\n,and\\nreceive\\ngood\\ncompensation\\nfor\\nyour\\nexpertise\\nand\\ntime.\\n16)\\nWhat\\nkind\\nof\\ncommitment\\nis\\nexpected\\nfrom\\nme\\nas\\na\\nchampion?\\n:\\nThe\\ncommitment\\nlevel\\ncan\\nvary,\\nbut\\ngenerally,\\nyou\\nare\\nexpected\\nto\\ninvest\\ntime\\nand\\neffort\\nto\\nsupport\\nand\\nadvocate\\nfor\\nthe\\nstartup,\\nproviding\\nvaluable\\nfeedback\\nand\\nconnections.\\n17)\\nHow\\ndoes\\nRappo\\nprotect\\nmy\\nstartup's\\nconfidential\\ninformation?\\n:\\nRappo\\nuses\\nsecure\\ncommunication\\nchannels\\nand\\nconfidentiality\\nagreements\\nto\\nensure\\nthat\\nsensitive\\ninformation\\nis\\nprotected.\\n18)\\nCan\\nI\\nchoose\\nwhich\\nchampions\\nto\\nconnect\\nwith\\non\\nRappo?\\n:\\nYes,\\nyou\\ncan\\nbrowse\\nand\\nselect\\nchampions\\nbased\\non\\ntheir\\nexpertise,\\nindustry,\\nand\\nrelevance\\nto\\nyour\\nstartup's\\nneeds.\\n19)What\\nkind\\nof\\nsupport\\ncan\\nI\\nexpect\\nfrom\\na\\nchampion?\\n:\\nSupport\\ncan\\ninclude\\nfeedback\\non\\nyour\\nproduct,\\nintroductions\\nto\\nkey\\ncontacts,\\nstrategic\\nadvice,\\nand\\nadvocacy\\nwithin\\ntheir\\norganization.\\n20)Is\\nthere\\na\\ncost\\nto\\nuse\\nRappo?\\n:\\nRappo\\nmay\\ncharge\\na\\nsubscription\\nfee\\nor\\na\\ncommission\\nbased\\non\\nsuccessful\\nconnections\\nand\\npartnerships.\\nSpecific\\npricing\\ndetails\\nwould\\nbe\\nprovided\\non\\nthe\\nplatform.\\n21)How\\ndoes\\nRappo\\nhandle\\nconflicts\\nof\\ninterest?\\n:\\nRappo\\nhas\\npolicies\\nin\\nplace\\nto\\nidentify\\nand\\nmitigate\\nconflicts\\nof\\ninterest\\nto\\nensure\\nthat\\nthe\\nrelationships\\nand\\nsupport\\nprovided\\nare\\nethical\\nand\\nbeneficial\\nto\\nboth\\nparties.\\n22)How\\ndo\\nI\\nget\\nmatched\\nwith\\nstartups\\non\\nRappo?\\n:\\nRappo\\nuses\\na\\ncombination\\nof\\nyour\\nprofile\\ninformation,\\nexpertise,\\nand\\npreferences\\nto\\nmatch\\nyou\\nwith\\nstartups\\nthat\\nalign\\nwith\\nyour\\ninterests\\nand\\nskills.\\n23)\\nCan\\nI\\ndecline\\nto\\nsupport\\na\\nstartup\\nif\\nit\\ndoesn’t\\nalign\\nwith\\nmy\\ninterests?\\n:\\nYes,\\nyou\\nhave\\nthe\\nflexibility\\nto\\nchoose\\nwhich\\nstartups\\nto\\nsupport\\nbased\\non\\nyour\\ninterests\\nand\\nalignment\\nwith\\ntheir\\ngoals.\\n24)What\\nare\\nthe\\npotential\\nrisks\\nof\\nbeing\\na\\nchampion\\non\\nRappo?\\n:\\nRisks\\ncan\\ninclude\\nthe\\ntime\\ninvestment\\nand\\nthe\\npossibility\\nthat\\nthe\\nstartup\\nmay\\nnot\\nsucceed\\ndespite\\nyour\\nsupport.\\nRappo\\naims\\nto\\nmitigate\\nthese\\nrisks\\nthrough\\ncareful\\nvetting\\nand\\nsupport\\nmechanisms\\n.\\n25)Can\\nI\\ncollaborate\\nwith\\nother\\nchampions\\non\\nRappo?\\n:\\nYes,\\nRappo\\nencourages\\ncollaboration\\namong\\nchampions\\nto\\nprovide\\na\\nbroader\\nrange\\nof\\nsupport\\nand\\ninsights\\nto\\nstartups.\"),\n",
       " Document(metadata={'source': 'C:\\\\Users\\\\ABDUL_HADI\\\\Desktop\\\\ChatBot2\\\\Rappo qa.pdf', 'page': 2}, page_content=''),\n",
       " Document(metadata={'source': 'C:\\\\Users\\\\ABDUL_HADI\\\\Desktop\\\\ChatBot2\\\\Rappo qa.pdf', 'page': 0}, page_content=\"1)\\nWhat\\nis\\nrappo?\\nRappo\\nis\\na\\nmarketplace\\nthat\\nhelps\\nearly-stage\\nstartups\\nconnect\\nwith\\nkey\\ndecision-makers\\nin\\nlarger\\ncompanies\\nusing\\na\\nmix\\nof\\ndata,\\nAI,\\nand\\npersonal\\nrelationships.\\nIt\\naims\\nto\\nbuild\\nand\\nstrengthen\\nthese\\nconnections\\nto\\nsupport\\nstartup\\ngrowth.\\n2)\\nChampion\\n:\\nA\\nchampion\\nis\\na\\ntop\\nor\\nsenior\\nindustry\\nexpert\\nwithin\\na\\nlarger\\ncompany\\nwho\\nadvocates\\nfor\\nand\\nsupports\\nthe\\nadoption\\nof\\na\\ncompany's\\nproduct\\nor\\nservice.\\n3)\\nWho\\nis\\nrappo\\nfor\\n:\\na)\\nEarly\\nstage\\nfounders\\nb)\\nEarly-stage\\nB2B\\nstartups\\nc)\\nAgencies\\n&\\nConsultants\\n4)\\nWhy\\nto\\npay\\nchampions\\n:\\nIt\\nalso\\ncompensates\\nthem\\nfor\\ntheir\\ntime,\\nexpertise,\\nand\\nthe\\nrisk\\nthey\\ntake\\nin\\nadvocating\\nfor\\na\\nnew\\nand\\nunproven\\nproduct\\nwithin\\ntheir\\norganization.\\n5)\\nIs\\nthis\\nkinda\\nbribing?\\n:\\nno.\\nThe\\nchampions\\nwe\\nare\\nthinking\\nof\\n(their\\nseniority)\\nwon’t\\nhave\\nsensitive\\ninformation\\nabout\\na\\ncompany\\nor\\nare\\nso\\nhigh\\non\\nthe\\nladder\\nthat\\nthey\\ncan\\ncause\\nsignificant\\ndamage.\\n6)\\nAttributes\\nof\\na\\nchampion\\n:\\nInfluential:\\nHas\\nthe\\npower\\nto\\ninfluence\\ndecisions\\nwithin\\ntheir\\norganization.\\nExpert:\\nPossesses\\ndeep\\nknowledge\\nand\\nexpertise\\nin\\ntheir\\nindustry.\\nSupportive:\\nActively\\nadvocates\\nfor\\nthe\\nstartup's\\nproduct\\nor\\nservice.\\nConnected:\\nWell-networked\\nwithin\\nthe\\nindustry\\nand\\nthe\\norganization.\\nCommitted:\\nWilling\\nto\\ninvest\\ntime\\nand\\neffort\\nto\\nhelp\\nthe\\nstartup\\nsucceed.\\n7)\\nWhy\\nshould\\nyou\\nuse\\nrappo\\n:\\n1.\\nBest\\ncurated\\nenterprises\\nchampions\\n2.\\nInstant\\nresponse\\nfrom\\nthe\\nchampions\\n3.\\nEconomically\\nbetter\\nthan\\noutreaches\\n4.\\nNo\\nspam,\\nRappo\\nis\\nsecured\\n5.\\nPrivacy\\ncomes\\nfirst\\n8)\\nHow\\ndoes\\nit\\nworks?\\n:\\nFounders\\ndescribe\\nthe\\nchampion's\\nattributes.\\nWhat’s\\nthe\\nchampion’s\\ntitle,\\nwhere\\ndo\\nthey\\nwork,\\nwhat\\ndo\\nthey\\ndo?\\nWe\\nconnect\\nthe\\nfounders\\nwith\\nchampions\\nwho\\nare\\nalso\\ninterested\\nin\\nmeeting\\n(double\\nopt-in).\\nFounders\\npay\\nchampions\\none\\ntime\\n($250)\\nfor\\ntheir\\ntime.\\n9)\\nWhy\\ndo\\nwe\\nneed\\na\\nmarketplace\\nfor\\nthis?\\n:\\nRappo\\nis\\nmade\\nof\\ntwo\\nsides\\n(founders,\\nchampions).\\nThere\\nneeds\\na\\ntrusted,\\nreliable\\nand\\ncommitted\\nplatform\\nto\\nfacilitate\\nmeaningful\\nconnections.\\nCertainly,\\nyou\\ncould\\ntry\\nbuilding\\nthe\\nrelationship\\noutside\\nof\\nour\\nplatform\\nbut\\nit's\\njust\\nhard.\\n10)\\nIs\\nRappo\\nan\\nalternative\\nfor\\nmy\\nGTM?\\n:\\nNot\\nreally.\\nAs\\na\\nstartup,\\nyou\\nshould\\ncertainly\\nhave\\na\\nsolid\\nGTM\\ndirection.\\nRappo\\ncan\\nhelp\\naugment\\nit.\\n11)\\nHow\\ndoes\\nRappo\\nensure\\nthat\\nthe\\nconnections\\nmade\\nare\\nvaluable?\\n:\\nRappo\\naligns\\nincentives,\\nholds\\nboth\\nparties\\naccountable,\\nand\\nfacilitates\\nthe\\nsharing\\nof\\ninsights\\nto\\nensure\\nproductive\\nand\\nmeaningful\\ninteractions.\"),\n",
       " Document(metadata={'source': 'C:\\\\Users\\\\ABDUL_HADI\\\\Desktop\\\\ChatBot2\\\\Rappo qa.pdf', 'page': 1}, page_content=\"12)\\nWhat\\nstage\\nshould\\nmy\\nstartup\\nbe\\nin\\nto\\nbenefit\\nfrom\\nRappo?\\n:\\nRappo\\nis\\nparticularly\\nbeneficial\\nfor\\nearly-stage\\nstartups\\nlooking\\nto\\nconnect\\nwith\\ndesign\\npartners,\\npotential\\ncustomers,\\nand\\nkey\\ndecision-makers,\\nhowever\\nit\\ncould\\nbe\\nused\\nby\\nanyone\\nseeking\\nconsultation\\nwith\\nindustry\\nexperts\\nin\\ntheir\\nspecific\\ndomain.\\n13)\\nHow\\ndo\\nI\\nget\\nstarted\\non\\nRappo?\\n:\\nYou\\ncan\\nsign\\nup\\non\\nRappo's\\nplatform,\\ncreate\\na\\nprofile\\nfor\\nyour\\nstartup,\\nand\\nstart\\nconnecting\\nwith\\npotential\\nchampions\\nwho\\nmatch\\nyour\\nindustry\\nand\\nneeds.\\n14)\\nWhat\\nis\\nmy\\nrole\\nas\\na\\nchampion\\non\\nRappo?\\n:\\nAs\\na\\nchampion,\\nyour\\nrole\\nis\\nto\\nleverage\\nyour\\nexpertise\\nand\\ninfluence\\nto\\nsupport\\nand\\nadvocate\\nfor\\nstartups,\\nhelping\\nthem\\nnavigate\\nand\\nsucceed\\nin\\nyour\\norganization.\\n15)Why\\nshould\\nI\\nbecome\\na\\nchampion\\non\\nRappo?\\n:\\nBecoming\\na\\nchampion\\nallows\\nyou\\nto\\nengage\\nwith\\ninnovative\\nstartups,\\ncontribute\\nto\\nthe\\ngrowth\\nof\\nnew\\ntechnologies,\\nbuild\\nnew\\nrelations\\n,and\\nreceive\\ngood\\ncompensation\\nfor\\nyour\\nexpertise\\nand\\ntime.\\n16)\\nWhat\\nkind\\nof\\ncommitment\\nis\\nexpected\\nfrom\\nme\\nas\\na\\nchampion?\\n:\\nThe\\ncommitment\\nlevel\\ncan\\nvary,\\nbut\\ngenerally,\\nyou\\nare\\nexpected\\nto\\ninvest\\ntime\\nand\\neffort\\nto\\nsupport\\nand\\nadvocate\\nfor\\nthe\\nstartup,\\nproviding\\nvaluable\\nfeedback\\nand\\nconnections.\\n17)\\nHow\\ndoes\\nRappo\\nprotect\\nmy\\nstartup's\\nconfidential\\ninformation?\\n:\\nRappo\\nuses\\nsecure\\ncommunication\\nchannels\\nand\\nconfidentiality\\nagreements\\nto\\nensure\\nthat\\nsensitive\\ninformation\\nis\\nprotected.\\n18)\\nCan\\nI\\nchoose\\nwhich\\nchampions\\nto\\nconnect\\nwith\\non\\nRappo?\\n:\\nYes,\\nyou\\ncan\\nbrowse\\nand\\nselect\\nchampions\\nbased\\non\\ntheir\\nexpertise,\\nindustry,\\nand\\nrelevance\\nto\\nyour\\nstartup's\\nneeds.\\n19)What\\nkind\\nof\\nsupport\\ncan\\nI\\nexpect\\nfrom\\na\\nchampion?\\n:\\nSupport\\ncan\\ninclude\\nfeedback\\non\\nyour\\nproduct,\\nintroductions\\nto\\nkey\\ncontacts,\\nstrategic\\nadvice,\\nand\\nadvocacy\\nwithin\\ntheir\\norganization.\\n20)Is\\nthere\\na\\ncost\\nto\\nuse\\nRappo?\\n:\\nRappo\\nmay\\ncharge\\na\\nsubscription\\nfee\\nor\\na\\ncommission\\nbased\\non\\nsuccessful\\nconnections\\nand\\npartnerships.\\nSpecific\\npricing\\ndetails\\nwould\\nbe\\nprovided\\non\\nthe\\nplatform.\\n21)How\\ndoes\\nRappo\\nhandle\\nconflicts\\nof\\ninterest?\\n:\\nRappo\\nhas\\npolicies\\nin\\nplace\\nto\\nidentify\\nand\\nmitigate\\nconflicts\\nof\\ninterest\\nto\\nensure\\nthat\\nthe\\nrelationships\\nand\\nsupport\\nprovided\\nare\\nethical\\nand\\nbeneficial\\nto\\nboth\\nparties.\\n22)How\\ndo\\nI\\nget\\nmatched\\nwith\\nstartups\\non\\nRappo?\\n:\\nRappo\\nuses\\na\\ncombination\\nof\\nyour\\nprofile\\ninformation,\\nexpertise,\\nand\\npreferences\\nto\\nmatch\\nyou\\nwith\\nstartups\\nthat\\nalign\\nwith\\nyour\\ninterests\\nand\\nskills.\\n23)\\nCan\\nI\\ndecline\\nto\\nsupport\\na\\nstartup\\nif\\nit\\ndoesn’t\\nalign\\nwith\\nmy\\ninterests?\\n:\\nYes,\\nyou\\nhave\\nthe\\nflexibility\\nto\\nchoose\\nwhich\\nstartups\\nto\\nsupport\\nbased\\non\\nyour\\ninterests\\nand\\nalignment\\nwith\\ntheir\\ngoals.\\n24)What\\nare\\nthe\\npotential\\nrisks\\nof\\nbeing\\na\\nchampion\\non\\nRappo?\\n:\\nRisks\\ncan\\ninclude\\nthe\\ntime\\ninvestment\\nand\\nthe\\npossibility\\nthat\\nthe\\nstartup\\nmay\\nnot\\nsucceed\\ndespite\\nyour\\nsupport.\\nRappo\\naims\\nto\\nmitigate\\nthese\\nrisks\\nthrough\\ncareful\\nvetting\\nand\\nsupport\\nmechanisms\\n.\\n25)Can\\nI\\ncollaborate\\nwith\\nother\\nchampions\\non\\nRappo?\\n:\\nYes,\\nRappo\\nencourages\\ncollaboration\\namong\\nchampions\\nto\\nprovide\\na\\nbroader\\nrange\\nof\\nsupport\\nand\\ninsights\\nto\\nstartups.\"),\n",
       " Document(metadata={'source': 'C:\\\\Users\\\\ABDUL_HADI\\\\Desktop\\\\ChatBot2\\\\Rappo qa.pdf', 'page': 2}, page_content='')]"
      ]
     },
     "execution_count": 42,
     "metadata": {},
     "output_type": "execute_result"
    }
   ],
   "source": [
    "documents = data1 + data2\n",
    "documents"
   ]
  },
  {
   "cell_type": "code",
   "execution_count": 52,
   "id": "dcba391f-1019-4e42-a4ec-dfd609197640",
   "metadata": {},
   "outputs": [],
   "source": [
    "raw_text = ''\n",
    "for i, doc in enumerate(documents):\n",
    "    text = doc.page_content\n",
    "    if text:\n",
    "        raw_text += text"
   ]
  },
  {
   "cell_type": "code",
   "execution_count": 54,
   "id": "8b37c8de-1925-4e7f-a81d-996577c574d0",
   "metadata": {},
   "outputs": [],
   "source": [
    "text_splitter = CharacterTextSplitter(\n",
    "separator = '\\n',\n",
    "chunk_size = 600,\n",
    "chunk_overlap = 50,\n",
    "length_function = len,\n",
    ")\n",
    "texts = text_splitter.split_text(raw_text)"
   ]
  },
  {
   "cell_type": "code",
   "execution_count": 56,
   "id": "8711a063-f981-4289-8747-490270f4dcf6",
   "metadata": {},
   "outputs": [
    {
     "data": {
      "text/plain": [
       "20"
      ]
     },
     "execution_count": 56,
     "metadata": {},
     "output_type": "execute_result"
    }
   ],
   "source": [
    "len(texts)"
   ]
  },
  {
   "cell_type": "code",
   "execution_count": 58,
   "id": "88cb93b7-3abf-431e-8479-ee47ed09e4c6",
   "metadata": {},
   "outputs": [],
   "source": [
    "embeddings = GooglePalmEmbeddings(google_api_key= google_api_key)"
   ]
  },
  {
   "cell_type": "code",
   "execution_count": 60,
   "id": "3f828734-8297-47d3-a6e1-5e7453658232",
   "metadata": {},
   "outputs": [
    {
     "data": {
      "text/plain": [
       "langchain_community.embeddings.google_palm.GooglePalmEmbeddings"
      ]
     },
     "execution_count": 60,
     "metadata": {},
     "output_type": "execute_result"
    }
   ],
   "source": [
    "type(embeddings)"
   ]
  },
  {
   "cell_type": "code",
   "execution_count": 62,
   "id": "4d18c8d6-5c72-4194-9fb7-591f7ac32dfb",
   "metadata": {},
   "outputs": [],
   "source": [
    "docsearch = FAISS.from_texts(texts, embeddings)  #text <---> documents"
   ]
  },
  {
   "cell_type": "code",
   "execution_count": 64,
   "id": "716f0c3b-da8f-45aa-a259-01624c92dd59",
   "metadata": {},
   "outputs": [
    {
     "data": {
      "text/plain": [
       "<langchain_community.vectorstores.faiss.FAISS at 0x1b43ba061e0>"
      ]
     },
     "execution_count": 64,
     "metadata": {},
     "output_type": "execute_result"
    }
   ],
   "source": [
    "docsearch"
   ]
  },
  {
   "cell_type": "code",
   "execution_count": 68,
   "id": "ee4aa49c-a953-490f-bba1-6bb9d2355721",
   "metadata": {},
   "outputs": [],
   "source": [
    "from langchain.llms import GooglePalm\n",
    "\n",
    "llm = GooglePalm(google_api_key = google_api_key  , temperature = 0.1)\n"
   ]
  },
  {
   "cell_type": "code",
   "execution_count": 70,
   "id": "da73a94c-f63f-43fb-97d9-c59e6cb3714b",
   "metadata": {},
   "outputs": [],
   "source": [
    "prompt_template = \"\"\"Given the following context and a question, generate an answer based on this context only.\n",
    "In the answer, try to provide as much text as possible from the \"response\" section in the source document context without making many changes.\n",
    "If the answer is not found in the context, kindly state \"I don't know. Feel free to ask your query on admin@buildrappo.com.\" Don't try to make up an answer.\n",
    "If the context does not contain any information about the question, say \"I don't know. Feel free to ask your query on admin@buildrappo.com.\"\n",
    "\n",
    "CONTEXT: {context}\n",
    "\n",
    "QUESTION: {question}\n",
    "\n",
    "ANSWER: \"\"\"\n",
    "\n",
    "PROMPT = PromptTemplate(\n",
    "    template=prompt_template, input_variables=[\"context\", \"question\"]\n",
    ")\n",
    "chain_type_kwargs = {\"prompt\": PROMPT}"
   ]
  },
  {
   "cell_type": "code",
   "execution_count": 72,
   "id": "a29d627f-21a5-4efe-95e8-6c5cf5fe971e",
   "metadata": {},
   "outputs": [],
   "source": [
    "from langchain.chains import RetrievalQA\n",
    "chain = RetrievalQA.from_chain_type(llm=llm, \n",
    "                            chain_type=\"stuff\",\n",
    "                            input_key = \"query\" ,        \n",
    "                            retriever= docsearch.as_retriever(),\n",
    "                            return_source_documents=True,\n",
    "                            chain_type_kwargs=chain_type_kwargs)\n"
   ]
  },
  {
   "cell_type": "code",
   "execution_count": 77,
   "id": "a152b508-1e53-45b8-9e71-1a598bc984c6",
   "metadata": {},
   "outputs": [
    {
     "data": {
      "text/plain": [
       "\"I don't know. Feel free to ask your query on admin@buildrappo.com.\""
      ]
     },
     "execution_count": 77,
     "metadata": {},
     "output_type": "execute_result"
    }
   ],
   "source": [
    "\n",
    "answer = chain.invoke('Give information about Rachid Belaid')\n",
    "answer['result']\n",
    "cleaned_response = answer['result'].replace('\\n', ' ').replace('  ', ' ')\n",
    "cleaned_response"
   ]
  },
  {
   "cell_type": "code",
   "execution_count": null,
   "id": "cf73e2a3-35da-4270-ac9d-88e43c95b221",
   "metadata": {},
   "outputs": [],
   "source": []
  },
  {
   "cell_type": "code",
   "execution_count": null,
   "id": "135e2a91-3361-4732-9179-ccd3ab401cf0",
   "metadata": {},
   "outputs": [],
   "source": []
  }
 ],
 "metadata": {
  "kernelspec": {
   "display_name": "myenv",
   "language": "python",
   "name": "myenv"
  },
  "language_info": {
   "codemirror_mode": {
    "name": "ipython",
    "version": 3
   },
   "file_extension": ".py",
   "mimetype": "text/x-python",
   "name": "python",
   "nbconvert_exporter": "python",
   "pygments_lexer": "ipython3",
   "version": "3.12.3"
  }
 },
 "nbformat": 4,
 "nbformat_minor": 5
}
