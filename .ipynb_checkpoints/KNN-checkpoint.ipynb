{
 "cells": [
  {
   "cell_type": "code",
   "execution_count": 27,
   "id": "acc876ec-6d13-40e6-b3b2-bd63e67357e2",
   "metadata": {},
   "outputs": [],
   "source": [
    "import pandas as pd \n",
    "import numpy as np"
   ]
  },
  {
   "cell_type": "code",
   "execution_count": 45,
   "id": "1f24d7fc-a343-475e-92e6-6cf2835fca29",
   "metadata": {},
   "outputs": [
    {
     "name": "stdin",
     "output_type": "stream",
     "text": [
      "Enter no of data points 3\n",
      "Enter the test data point as two comma-separated integers (e.g., 4,5):  1,2\n"
     ]
    },
    {
     "ename": "ValueError",
     "evalue": "invalid literal for int() with base 10: '1,2'",
     "output_type": "error",
     "traceback": [
      "\u001b[1;31m---------------------------------------------------------------------------\u001b[0m",
      "\u001b[1;31mValueError\u001b[0m                                Traceback (most recent call last)",
      "Cell \u001b[1;32mIn[45], line 8\u001b[0m\n\u001b[0;32m      4\u001b[0m y_train \u001b[38;5;241m=\u001b[39m []\n\u001b[0;32m      6\u001b[0m \u001b[38;5;28;01mfor\u001b[39;00m i \u001b[38;5;129;01min\u001b[39;00m \u001b[38;5;28mrange\u001b[39m(n) :\n\u001b[1;32m----> 8\u001b[0m     data_point \u001b[38;5;241m=\u001b[39m \u001b[38;5;28mint\u001b[39m(\u001b[38;5;28minput\u001b[39m(\u001b[38;5;124m\"\u001b[39m\u001b[38;5;124mEnter the test data point as two comma-separated integers (e.g., 4,5): \u001b[39m\u001b[38;5;124m\"\u001b[39m))    \n\u001b[0;32m      9\u001b[0m     X_train\u001b[38;5;241m.\u001b[39mappend(data_point)\n\u001b[0;32m     11\u001b[0m     label \u001b[38;5;241m=\u001b[39m \u001b[38;5;28mint\u001b[39m(\u001b[38;5;28minput\u001b[39m(\u001b[38;5;124m\"\u001b[39m\u001b[38;5;124mEnter label\u001b[39m\u001b[38;5;124m\"\u001b[39m))\n",
      "\u001b[1;31mValueError\u001b[0m: invalid literal for int() with base 10: '1,2'"
     ]
    }
   ],
   "source": [
    "n = int(input(\"Enter no of data points\"))\n",
    "\n",
    "X_train = []\n",
    "y_train = []\n",
    "\n",
    "for i in range(n) :\n",
    "\n",
    "    data_point = int(input(\"Enter the test data point as two comma-separated integers (e.g., 4,5): \")) \n",
    "    data_point = [int(x) for x in test_point_input.split(',')]\n",
    "    \n",
    "    X_train.append(data_point)\n",
    "\n",
    "    label = int(input(\"Enter label\"))\n",
    "    y_train.append(label)\n",
    "\n",
    "print(X_train)\n",
    "print(y_train)\n"
   ]
  },
  {
   "cell_type": "code",
   "execution_count": 43,
   "id": "f1ca2f6b-6d56-44af-9bce-ceea1d21b3e9",
   "metadata": {},
   "outputs": [
    {
     "name": "stdin",
     "output_type": "stream",
     "text": [
      "Enter the test data point as two comma-separated integers (e.g., 4,5):  3,5\n"
     ]
    }
   ],
   "source": [
    "test_point_input = input(\"Enter the test data point as two comma-separated integers (e.g., 4,5): \")\n",
    "X_test = [int(x) for x in test_point_input.split(',')]"
   ]
  },
  {
   "cell_type": "code",
   "execution_count": 7,
   "id": "e555ae99-b7dc-490f-9747-3b17dabf1e78",
   "metadata": {},
   "outputs": [
    {
     "name": "stdout",
     "output_type": "stream",
     "text": [
      "Distances: [6.708203932499369, 5.385164807134504, 5.656854249492381, 2.23606797749979, 3.0, 1.4142135623730951, 6.708203932499369, 5.385164807134504, 4.47213595499958, 2.0]\n"
     ]
    }
   ],
   "source": [
    "def euclidean_distance(point1, point2):\n",
    "    return np.sqrt(np.sum((point1 - point2) ** 2))\n",
    "\n",
    "# Calculate distance between test point and each training point\n",
    "distances = [euclidean_distance(X_test , x) for x in X_train]\n",
    "print(\"Distances:\", distances)\n"
   ]
  },
  {
   "cell_type": "code",
   "execution_count": 9,
   "id": "7fc7de80-c133-46cf-b5c5-c07d16b06bf5",
   "metadata": {},
   "outputs": [
    {
     "name": "stdin",
     "output_type": "stream",
     "text": [
      "Enter the value of K :  5\n"
     ]
    }
   ],
   "source": [
    "k = int(input(\"Enter the value of K : \"))"
   ]
  },
  {
   "cell_type": "code",
   "execution_count": 11,
   "id": "ec6e1ef3-9d37-4a80-aa24-d9d1778908cb",
   "metadata": {},
   "outputs": [],
   "source": [
    "def get_k_nearest_neighbors(X_train, y_train, X_test, k):\n",
    "    distances = [euclidean_distance(X_test, x) for x in X_train]\n",
    "    # Get the indices of the sorted distances\n",
    "    sorted_indices = np.argsort(distances)\n",
    "    # Get the labels of the K nearest neighbors\n",
    "    k_nearest_labels = y_train[sorted_indices[:k]]\n",
    "    return k_nearest_labels\n"
   ]
  },
  {
   "cell_type": "code",
   "execution_count": 13,
   "id": "6f182aa1-bac4-4c54-bb0c-300da7c4282f",
   "metadata": {},
   "outputs": [
    {
     "name": "stdout",
     "output_type": "stream",
     "text": [
      "5 nearest neighbors' labels: [1 1 1 1 1]\n"
     ]
    }
   ],
   "source": [
    "# Find k nearest neighbors\n",
    "neighbors = get_k_nearest_neighbors(X_train, y_train, X_test, k)\n",
    "print(f\"{k} nearest neighbors' labels:\", neighbors)"
   ]
  },
  {
   "cell_type": "code",
   "execution_count": 21,
   "id": "f4fde83e-1361-4fcc-b07c-de802125c2e4",
   "metadata": {},
   "outputs": [],
   "source": [
    "def predict(X_train, y_train, X_test, k):\n",
    "    neighbors = get_k_nearest_neighbors(X_train, y_train, X_test, k)\n",
    "    \n",
    "    # Count the frequency of each class in the nearest neighbors manually\n",
    "    class_count = {}\n",
    "    for label in neighbors:\n",
    "        if label in class_count:\n",
    "            class_count[label] += 1\n",
    "        else:\n",
    "            class_count[label] = 1\n",
    "    # Find the class with the highest frequency\n",
    "    most_common_class = max(class_count, key=class_count.get)\n",
    "    return most_common_class"
   ]
  },
  {
   "cell_type": "code",
   "execution_count": 23,
   "id": "6e999915-ad4f-421a-9dfe-d353392d2bd9",
   "metadata": {},
   "outputs": [
    {
     "name": "stdout",
     "output_type": "stream",
     "text": [
      "Predicted class for test point [7, 5]: 1\n"
     ]
    }
   ],
   "source": [
    "predicted_class = predict(X_train, y_train, X_test, k)\n",
    "\n",
    "# Step 7: Output the result\n",
    "print(f\"Predicted class for test point {X_test}: {predicted_class}\")"
   ]
  },
  {
   "cell_type": "code",
   "execution_count": null,
   "id": "ddafada2-3c40-4de7-abe8-42ca60aece1a",
   "metadata": {},
   "outputs": [],
   "source": []
  }
 ],
 "metadata": {
  "kernelspec": {
   "display_name": "Python 3 (ipykernel)",
   "language": "python",
   "name": "python3"
  },
  "language_info": {
   "codemirror_mode": {
    "name": "ipython",
    "version": 3
   },
   "file_extension": ".py",
   "mimetype": "text/x-python",
   "name": "python",
   "nbconvert_exporter": "python",
   "pygments_lexer": "ipython3",
   "version": "3.11.5"
  }
 },
 "nbformat": 4,
 "nbformat_minor": 5
}
