{
 "cells": [
  {
   "cell_type": "code",
   "execution_count": null,
   "id": "bd2c1fe5-96aa-4e14-8653-0ad620bea3ed",
   "metadata": {},
   "outputs": [],
   "source": []
  },
  {
   "cell_type": "code",
   "execution_count": null,
   "id": "ae707b7b-8fe8-40c1-91a8-ea8def973bf1",
   "metadata": {},
   "outputs": [],
   "source": []
  },
  {
   "cell_type": "code",
   "execution_count": 54,
   "id": "bb07c1d4-403d-4554-83fb-af2e7703807a",
   "metadata": {},
   "outputs": [],
   "source": [
    "import numpy as np"
   ]
  },
  {
   "cell_type": "code",
   "execution_count": 86,
   "id": "3f0ab9f4-a1e4-42bf-8bfd-a0c276511cb6",
   "metadata": {
    "scrolled": true
   },
   "outputs": [
    {
     "name": "stdin",
     "output_type": "stream",
     "text": [
      "Enter the number of data points:  5\n",
      "Enter data point 1 as two comma-separated integers (e.g., 4,5):  1,2\n",
      "Enter label for data point 1:  0\n",
      "Enter data point 2 as two comma-separated integers (e.g., 4,5):  2,3\n",
      "Enter label for data point 2:  0\n",
      "Enter data point 3 as two comma-separated integers (e.g., 4,5):  3,5\n",
      "Enter label for data point 3:  1\n",
      "Enter data point 4 as two comma-separated integers (e.g., 4,5):  4,5\n",
      "Enter label for data point 4:  1\n",
      "Enter data point 5 as two comma-separated integers (e.g., 4,5):  7,9\n",
      "Enter label for data point 5:  0\n"
     ]
    },
    {
     "name": "stdout",
     "output_type": "stream",
     "text": [
      "X_train: [[1 2]\n",
      " [2 3]\n",
      " [3 5]\n",
      " [4 5]\n",
      " [7 9]]\n",
      "y_train: [0 0 1 1 0]\n"
     ]
    }
   ],
   "source": [
    "n = int(input(\"Enter the number of data points: \"))\n",
    "\n",
    "X_train = []\n",
    "y_train = []\n",
    "\n",
    "for i in range(n):\n",
    "    data_point_input = input(f\"Enter data point {i+1} as two comma-separated integers (e.g., 4,5): \")\n",
    "    data_point = [int(x) for x in data_point_input.split(',')]\n",
    "    \n",
    "    X_train.append(data_point)\n",
    "    \n",
    "    label = int(input(f\"Enter label for data point {i+1}: \"))\n",
    "    y_train.append(label)\n",
    "\n",
    "X_train = np.array(X_train)\n",
    "y_train = np.array(y_train)\n",
    "\n",
    "print(\"X_train:\", X_train)\n",
    "print(\"y_train:\", y_train)\n"
   ]
  },
  {
   "cell_type": "code",
   "execution_count": 88,
   "id": "f1ca2f6b-6d56-44af-9bce-ceea1d21b3e9",
   "metadata": {},
   "outputs": [
    {
     "name": "stdin",
     "output_type": "stream",
     "text": [
      "Enter the test data point as two comma-separated integers (e.g., 4,5):  4,7\n"
     ]
    }
   ],
   "source": [
    "test_point_input = input(\"Enter the test data point as two comma-separated integers (e.g., 4,5): \")\n",
    "X_test = [int(x) for x in test_point_input.split(',')]"
   ]
  },
  {
   "cell_type": "code",
   "execution_count": 90,
   "id": "e555ae99-b7dc-490f-9747-3b17dabf1e78",
   "metadata": {},
   "outputs": [
    {
     "name": "stdout",
     "output_type": "stream",
     "text": [
      "Distances: [5.830951894845301, 4.47213595499958, 2.23606797749979, 2.0, 3.605551275463989]\n"
     ]
    }
   ],
   "source": [
    "def euclidean_distance(point1, point2):\n",
    "    return np.sqrt(np.sum((point1 - point2) ** 2))\n",
    "\n",
    "# Calculate distance between test point and each training point\n",
    "distances = [euclidean_distance(X_test , x) for x in X_train]\n",
    "print(\"Distances:\", distances)\n"
   ]
  },
  {
   "cell_type": "code",
   "execution_count": 92,
   "id": "7fc7de80-c133-46cf-b5c5-c07d16b06bf5",
   "metadata": {},
   "outputs": [
    {
     "name": "stdin",
     "output_type": "stream",
     "text": [
      "Enter the value of K :  3\n"
     ]
    }
   ],
   "source": [
    "k = int(input(\"Enter the value of K : \"))"
   ]
  },
  {
   "cell_type": "code",
   "execution_count": 94,
   "id": "ec6e1ef3-9d37-4a80-aa24-d9d1778908cb",
   "metadata": {},
   "outputs": [],
   "source": [
    "def get_k_nearest_neighbors(X_train, y_train, X_test, k):\n",
    "    distances = [euclidean_distance(X_test, x) for x in X_train]\n",
    "    # Get the indices of the sorted distances\n",
    "    sorted_indices = np.argsort(distances)\n",
    "    # Get the labels of the K nearest neighbors\n",
    "    k_nearest_labels = y_train[sorted_indices[:k]]\n",
    "    return k_nearest_labels\n"
   ]
  },
  {
   "cell_type": "code",
   "execution_count": 96,
   "id": "6f182aa1-bac4-4c54-bb0c-300da7c4282f",
   "metadata": {},
   "outputs": [
    {
     "name": "stdout",
     "output_type": "stream",
     "text": [
      "3 nearest neighbors' labels: [1 1 0]\n"
     ]
    }
   ],
   "source": [
    "# Find k nearest neighbors\n",
    "neighbors = get_k_nearest_neighbors(X_train, y_train, X_test, k)\n",
    "print(f\"{k} nearest neighbors' labels:\", neighbors)"
   ]
  },
  {
   "cell_type": "code",
   "execution_count": 98,
   "id": "f4fde83e-1361-4fcc-b07c-de802125c2e4",
   "metadata": {},
   "outputs": [],
   "source": [
    "def predict(X_train, y_train, X_test, k):\n",
    "    neighbors = get_k_nearest_neighbors(X_train, y_train, X_test, k)\n",
    "    \n",
    "    # Count the frequency of each class in the nearest neighbors manually\n",
    "    class_count = {}\n",
    "    for label in neighbors:\n",
    "        if label in class_count:\n",
    "            class_count[label] += 1\n",
    "        else:\n",
    "            class_count[label] = 1\n",
    "    # Find the class with the highest frequency\n",
    "    most_common_class = max(class_count, key=class_count.get)\n",
    "    return most_common_class"
   ]
  },
  {
   "cell_type": "code",
   "execution_count": 100,
   "id": "6e999915-ad4f-421a-9dfe-d353392d2bd9",
   "metadata": {},
   "outputs": [
    {
     "name": "stdout",
     "output_type": "stream",
     "text": [
      "Predicted class for test point [4, 7]: 1\n"
     ]
    }
   ],
   "source": [
    "predicted_class = predict(X_train, y_train, X_test, k)\n",
    "\n",
    "# Step 7: Output the result\n",
    "print(f\"Predicted class for test point {X_test}: {predicted_class}\")"
   ]
  },
  {
   "cell_type": "code",
   "execution_count": null,
   "id": "ddafada2-3c40-4de7-abe8-42ca60aece1a",
   "metadata": {},
   "outputs": [],
   "source": []
  },
  {
   "cell_type": "code",
   "execution_count": null,
   "id": "071c194b-94f9-4a6b-8768-d9b9cec858ba",
   "metadata": {},
   "outputs": [],
   "source": []
  },
  {
   "cell_type": "code",
   "execution_count": null,
   "id": "bdef0186-f9c7-42b8-b1ac-72b06a029ae2",
   "metadata": {},
   "outputs": [],
   "source": []
  }
 ],
 "metadata": {
  "kernelspec": {
   "display_name": "Python 3 (ipykernel)",
   "language": "python",
   "name": "python3"
  },
  "language_info": {
   "codemirror_mode": {
    "name": "ipython",
    "version": 3
   },
   "file_extension": ".py",
   "mimetype": "text/x-python",
   "name": "python",
   "nbconvert_exporter": "python",
   "pygments_lexer": "ipython3",
   "version": "3.11.5"
  }
 },
 "nbformat": 4,
 "nbformat_minor": 5
}
